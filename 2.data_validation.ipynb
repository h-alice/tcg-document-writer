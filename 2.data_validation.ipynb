{
 "cells": [
  {
   "cell_type": "markdown",
   "metadata": {},
   "source": [
    "# Stage 2: Document Dataset Quality Check"
   ]
  },
  {
   "cell_type": "code",
   "execution_count": 1,
   "metadata": {},
   "outputs": [],
   "source": [
    "import shutil\n",
    "from di_parser import Document, document_from_xml, UnsupportedDocumentType\n",
    "from pathlib import Path\n",
    "from IPython.display import Markdown, display"
   ]
  },
  {
   "cell_type": "markdown",
   "metadata": {},
   "source": [
    "## Load the Dataset"
   ]
  },
  {
   "cell_type": "code",
   "execution_count": 2,
   "metadata": {},
   "outputs": [
    {
     "name": "stdout",
     "output_type": "stream",
     "text": [
      "Parsed 17180 documents. Ignored 1456 unsupported documents.\n"
     ]
    }
   ],
   "source": [
    "root = Path(\"./resources/2024-Oct-unique\")\n",
    "all_docfiles: tuple[Path, Document] = []\n",
    "doc_error = 0\n",
    "for file in root.rglob(\"*.di\"):\n",
    "    try:\n",
    "        doc = document_from_xml(file)\n",
    "        #print(doc)\n",
    "    except UnsupportedDocumentType:\n",
    "        # Consider support for more documents like 陳情案件\n",
    "        doc_error += 1\n",
    "        continue\n",
    "\n",
    "    all_docfiles.append((file, doc))\n",
    "\n",
    "print(f\"Parsed {len(all_docfiles)} documents. Ignored {doc_error} unsupported documents.\")"
   ]
  },
  {
   "cell_type": "markdown",
   "metadata": {},
   "source": [
    "## Quality Check\n",
    "\n",
    "If **subject** or **description** is empty, then the document is invalid.\n",
    "\n",
    "If the document type is **簽** and the **act** is empty, then the document is invalid."
   ]
  },
  {
   "cell_type": "code",
   "execution_count": 3,
   "metadata": {},
   "outputs": [
    {
     "name": "stdout",
     "output_type": "stream",
     "text": [
      "Verified 16939 documents.\n"
     ]
    }
   ],
   "source": [
    "verified_docs: tuple[Path, Document] = []\n",
    "for (file, doc) in all_docfiles:\n",
    "    if not doc.subject:\n",
    "        continue\n",
    "    if not doc.description:\n",
    "        continue\n",
    "    if doc.document_type == \"簽\" and not doc.act:\n",
    "        continue\n",
    "\n",
    "    verified_docs.append((file, doc))\n",
    "\n",
    "print(f\"Verified {len(verified_docs)} documents.\")"
   ]
  },
  {
   "cell_type": "markdown",
   "metadata": {},
   "source": [
    "## Writeout Verified Documents"
   ]
  },
  {
   "cell_type": "code",
   "execution_count": 4,
   "metadata": {},
   "outputs": [],
   "source": [
    "output_root = Path(\"./resources/2024-Oct-cleaned\")\n",
    "output_root.mkdir(parents=True, exist_ok=True)\n",
    "\n",
    "for (file, _) in verified_docs:\n",
    "    shutil.copy(file, output_root / file.name)"
   ]
  },
  {
   "cell_type": "code",
   "execution_count": null,
   "metadata": {},
   "outputs": [],
   "source": []
  }
 ],
 "metadata": {
  "kernelspec": {
   "display_name": "misc",
   "language": "python",
   "name": "python3"
  },
  "language_info": {
   "codemirror_mode": {
    "name": "ipython",
    "version": 3
   },
   "file_extension": ".py",
   "mimetype": "text/x-python",
   "name": "python",
   "nbconvert_exporter": "python",
   "pygments_lexer": "ipython3",
   "version": "3.12.2"
  }
 },
 "nbformat": 4,
 "nbformat_minor": 2
}
