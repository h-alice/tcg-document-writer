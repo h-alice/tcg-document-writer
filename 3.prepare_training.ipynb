{
 "cells": [
  {
   "cell_type": "markdown",
   "metadata": {},
   "source": [
    "# Stage 3: Useful Tools for Training Data Preparation"
   ]
  },
  {
   "cell_type": "code",
   "execution_count": 1,
   "metadata": {},
   "outputs": [],
   "source": [
    "import pandas as pd\n",
    "from pathlib import Path\n",
    "from di_parser import document_from_xml, Document\n",
    "from common import stringify_md # This is a useful function for converting documents to markdown"
   ]
  },
  {
   "cell_type": "markdown",
   "metadata": {},
   "source": [
    "## Load Data"
   ]
  },
  {
   "cell_type": "code",
   "execution_count": 2,
   "metadata": {},
   "outputs": [
    {
     "name": "stdout",
     "output_type": "stream",
     "text": [
      "簽 | ◯◯室 | 113年10月23日\n",
      "為配合推動「◯◯◯數位研習實施計畫」一案，簽請核示。\n",
      "說明：\n",
      "一、 依據本府113年◯◯月◯◯日府授教學字第1234567890號函辦理。\n",
      "二、 旨揭實施計畫係本府為強化本府所屬人員之◯◯◯◯，落實◯◯◯◯，所規劃之訓練，相關資訊如下：\n",
      "(一) 參加對象：\n",
      "１、 未參加113年度◯◯教育實體講習之簡任人員：有◯◯◯局長、◯◯◯副局長及◯◯◯專門委員等3人，◯◯◯代理副局長、◯◯◯簡任高級分析師已參加實體課程（附件1）。\n",
      "２、 薦任及委任人員（含約聘人員、約僱人員）。\n",
      "(二) 課程內容：\n",
      "１、 課程名稱：◯◯◯。\n",
      "２、 課程網址：https://google.com.tw\n",
      "３、 選課密碼：12345678\n",
      "(三) 研習期程：即日起至113年◯◯月◯◯日，期間內完成2小時數位課程，並通過正式測驗（70分及格）。\n",
      "三、 為利控管及填報本局執行情形（附件2），請人事室協助提供本局應參加研習人員清冊並註明官職等（附件3），及協助提供本局人員學習情形，俾利本室彙整提報◯◯局。\n",
      "四、 為提高本局參訓情形，請各單位務必轉知所屬於◯◯月◯◯日前完成本次指定課程研習。\n",
      "擬辦：\n",
      "本室將於本局TaipeiON群組加強宣導，俟人事室提供受訓情形後，統計結果再另陳核，依限回覆◯◯局。\n"
     ]
    }
   ],
   "source": [
    "resource_path = Path(\"./resources/2024-Oct-cleaned\")\n",
    "\n",
    "documents: list[Document] = []\n",
    "for file in resource_path.glob(\"*.di\"):\n",
    "    with open(file, \"r\", encoding=\"utf-8\") as f:\n",
    "        doc = document_from_xml(f)\n",
    "        documents.append(doc)\n",
    "\n",
    "print(dummy := documents[0])"
   ]
  },
  {
   "cell_type": "markdown",
   "metadata": {},
   "source": [
    "We can notice that the bullet points in original document are complicated, hence not a good choice to be used as training data.\n",
    "\n",
    "To solve this issue, we'll introduce some useful tools to help us prepare the training data."
   ]
  },
  {
   "cell_type": "markdown",
   "metadata": {},
   "source": [
    "## Document to Simplified Structed Data\n",
    "\n",
    "**Stringify** is a tool for flattening nested lists, and assign proper bullet points to each items."
   ]
  },
  {
   "cell_type": "markdown",
   "metadata": {},
   "source": [
    "This is the original **description** section."
   ]
  },
  {
   "cell_type": "code",
   "execution_count": 3,
   "metadata": {},
   "outputs": [
    {
     "name": "stdout",
     "output_type": "stream",
     "text": [
      "說明：\n",
      "一、 依據本府113年◯◯月◯◯日府授教學字第1234567890號函辦理。\n",
      "二、 旨揭實施計畫係本府為強化本府所屬人員之◯◯◯◯，落實◯◯◯◯，所規劃之訓練，相關資訊如下：\n",
      "(一) 參加對象：\n",
      "１、 未參加113年度◯◯教育實體講習之簡任人員：有◯◯◯局長、◯◯◯副局長及◯◯◯專門委員等3人，◯◯◯代理副局長、◯◯◯簡任高級分析師已參加實體課程（附件1）。\n",
      "２、 薦任及委任人員（含約聘人員、約僱人員）。\n",
      "(二) 課程內容：\n",
      "１、 課程名稱：◯◯◯。\n",
      "２、 課程網址：https://google.com.tw\n",
      "３、 選課密碼：12345678\n",
      "(三) 研習期程：即日起至113年◯◯月◯◯日，期間內完成2小時數位課程，並通過正式測驗（70分及格）。\n",
      "三、 為利控管及填報本局執行情形（附件2），請人事室協助提供本局應參加研習人員清冊並註明官職等（附件3），及協助提供本局人員學習情形，俾利本室彙整提報◯◯局。\n",
      "四、 為提高本局參訓情形，請各單位務必轉知所屬於◯◯月◯◯日前完成本次指定課程研習。\n"
     ]
    }
   ],
   "source": [
    "print(dummy.description)"
   ]
  },
  {
   "cell_type": "markdown",
   "metadata": {},
   "source": [
    "Now we'll use **stringify** to overwrite original bullet points to make it simpler."
   ]
  },
  {
   "cell_type": "code",
   "execution_count": 4,
   "metadata": {},
   "outputs": [
    {
     "name": "stdout",
     "output_type": "stream",
     "text": [
      "說明：\n",
      "- 依據本府113年◯◯月◯◯日府授教學字第1234567890號函辦理。\n",
      "- 旨揭實施計畫係本府為強化本府所屬人員之◯◯◯◯，落實◯◯◯◯，所規劃之訓練，相關資訊如下：\n",
      "- 參加對象：\n",
      "- 未參加113年度◯◯教育實體講習之簡任人員：有◯◯◯局長、◯◯◯副局長及◯◯◯專門委員等3人，◯◯◯代理副局長、◯◯◯簡任高級分析師已參加實體課程（附件1）。\n",
      "- 薦任及委任人員（含約聘人員、約僱人員）。\n",
      "- 課程內容：\n",
      "- 課程名稱：◯◯◯。\n",
      "- 課程網址：https://google.com.tw\n",
      "- 選課密碼：12345678\n",
      "- 研習期程：即日起至113年◯◯月◯◯日，期間內完成2小時數位課程，並通過正式測驗（70分及格）。\n",
      "- 為利控管及填報本局執行情形（附件2），請人事室協助提供本局應參加研習人員清冊並註明官職等（附件3），及協助提供本局人員學習情形，俾利本室彙整提報◯◯局。\n",
      "- 為提高本局參訓情形，請各單位務必轉知所屬於◯◯月◯◯日前完成本次指定課程研習。\n"
     ]
    }
   ],
   "source": [
    "print(dummy.description.stringify(overwrite_sequence_bullet=\"-\"))"
   ]
  },
  {
   "cell_type": "markdown",
   "metadata": {},
   "source": [
    "We also provided a switch to ignore the section name."
   ]
  },
  {
   "cell_type": "code",
   "execution_count": 5,
   "metadata": {},
   "outputs": [
    {
     "name": "stdout",
     "output_type": "stream",
     "text": [
      " 依據本府113年◯◯月◯◯日府授教學字第1234567890號函辦理。\n",
      " 旨揭實施計畫係本府為強化本府所屬人員之◯◯◯◯，落實◯◯◯◯，所規劃之訓練，相關資訊如下：\n",
      " 參加對象：\n",
      " 未參加113年度◯◯教育實體講習之簡任人員：有◯◯◯局長、◯◯◯副局長及◯◯◯專門委員等3人，◯◯◯代理副局長、◯◯◯簡任高級分析師已參加實體課程（附件1）。\n",
      " 薦任及委任人員（含約聘人員、約僱人員）。\n",
      " 課程內容：\n",
      " 課程名稱：◯◯◯。\n",
      " 課程網址：https://google.com.tw\n",
      " 選課密碼：12345678\n",
      " 研習期程：即日起至113年◯◯月◯◯日，期間內完成2小時數位課程，並通過正式測驗（70分及格）。\n",
      " 為利控管及填報本局執行情形（附件2），請人事室協助提供本局應參加研習人員清冊並註明官職等（附件3），及協助提供本局人員學習情形，俾利本室彙整提報◯◯局。\n",
      " 為提高本局參訓情形，請各單位務必轉知所屬於◯◯月◯◯日前完成本次指定課程研習。\n"
     ]
    }
   ],
   "source": [
    "print(dummy.description.stringify(overwrite_sequence_bullet=\"\", ignore_section_type=True))"
   ]
  },
  {
   "cell_type": "code",
   "execution_count": null,
   "metadata": {},
   "outputs": [],
   "source": []
  }
 ],
 "metadata": {
  "kernelspec": {
   "display_name": "misc",
   "language": "python",
   "name": "python3"
  },
  "language_info": {
   "codemirror_mode": {
    "name": "ipython",
    "version": 3
   },
   "file_extension": ".py",
   "mimetype": "text/x-python",
   "name": "python",
   "nbconvert_exporter": "python",
   "pygments_lexer": "ipython3",
   "version": "3.12.2"
  }
 },
 "nbformat": 4,
 "nbformat_minor": 2
}
