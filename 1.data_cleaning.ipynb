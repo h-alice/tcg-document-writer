{
 "cells": [
  {
   "cell_type": "markdown",
   "metadata": {},
   "source": [
    "# Stage 1: Remove Duplicates"
   ]
  },
  {
   "cell_type": "code",
   "execution_count": 1,
   "metadata": {},
   "outputs": [],
   "source": [
    "import re\n",
    "import di_parser\n",
    "from di_parser import Document, document_from_xml\n",
    "from pathlib import Path"
   ]
  },
  {
   "cell_type": "markdown",
   "metadata": {},
   "source": [
    "## Helper Functions for Checking File Version"
   ]
  },
  {
   "cell_type": "code",
   "execution_count": 2,
   "metadata": {},
   "outputs": [],
   "source": [
    "def separate_version_tag(fname:str) -> tuple[str, str]:\n",
    "    \"\"\"\n",
    "    Separate the version tag from the filename.\n",
    "    \"\"\"\n",
    "    pattern = r'^(.*?)(v\\d+)$'\n",
    "    match = re.match(pattern, fname)\n",
    "    if not match:\n",
    "        return fname, None\n",
    "    return (match.group(1), match.group(2))\n",
    "\n",
    "def is_newer_version(A, B):\n",
    "\n",
    "    # Separate the version tag from the filename\n",
    "    id_A, version_A = separate_version_tag(A)\n",
    "    id_B, version_B = separate_version_tag(B)\n",
    "\n",
    "    # If the version tag is missing in either string, return False\n",
    "    if not version_A or not version_B or not id_A or not id_B:\n",
    "        return False\n",
    "\n",
    "    # Check if the identity parts are the same\n",
    "    if id_A != id_B:\n",
    "        return False\n",
    "    \n",
    "    version_A = version_A.replace(\"v\", \"\")\n",
    "    version_B = version_B.replace(\"v\", \"\")\n",
    "\n",
    "    # Compare the version numbers\n",
    "    return int(version_A) > int(version_B)\n",
    "\n",
    "def has_newer_version(fname:str, doc_name_pool:list):\n",
    "    return any([is_newer_version(x, fname) for x in doc_name_pool])"
   ]
  },
  {
   "cell_type": "markdown",
   "metadata": {},
   "source": [
    "## Get File Names"
   ]
  },
  {
   "cell_type": "code",
   "execution_count": 3,
   "metadata": {},
   "outputs": [
    {
     "name": "stdout",
     "output_type": "stream",
     "text": [
      "['1133011517_2_07851929564', '1133011517_2_03215262820', '1133011517_1_01772187775', '1133011517_2_03859603659', '1133011517_2_01772187775', '1133011517_2_05920610854', '1133011517_2_09868822817', '1133011517_2_09567824840', '1133011517_2_05598817171', '33936849_1133011517_1']\n"
     ]
    }
   ],
   "source": [
    "root = Path(\"./resources/2024-Oct\")\n",
    "fname_docfile_map = {}\n",
    "for file in root.rglob(\"*.di\"):\n",
    "    fname_docfile_map[file.stem] = file.absolute()\n",
    "\n",
    "print(list(fname_docfile_map.keys())[:10])"
   ]
  },
  {
   "cell_type": "markdown",
   "metadata": {},
   "source": [
    "## Get Unique, Latest File Versions"
   ]
  },
  {
   "cell_type": "code",
   "execution_count": 4,
   "metadata": {},
   "outputs": [],
   "source": [
    "# Limit the szie of the pool, since it heavily slows down the performance.\n",
    "doc_has_version = [x for x in list(fname_docfile_map.keys()) if \"v\" in x] \n",
    "doc_no_version = [x for x in list(fname_docfile_map.keys()) if \"v\" not in x]\n",
    "\n",
    "\n",
    "doc_version_unique: dict[str, str] = {} # Collect the unique version of each document\n",
    "\n",
    "# Each `doc_id` is a slot for a document, each slot will finally contain the latest version of the document.\n",
    "# If a slot is occupied, compare the version number and replace the slot with the newer version.\n",
    "for doc in doc_has_version:\n",
    "    doc_id, version = separate_version_tag(doc)\n",
    "    if doc_id not in doc_version_unique:\n",
    "        doc_version_unique[doc_id] = doc\n",
    "    else:\n",
    "        if is_newer_version(doc, doc_version_unique[doc_id]):\n",
    "            doc_version_unique[doc_id] = doc\n",
    "\n",
    "# Final unique document name pool\n",
    "doc_name_pool = list(doc_version_unique.values()) + doc_no_version\n",
    "doc_path_pool = [fname_docfile_map[x] for x in doc_name_pool]"
   ]
  },
  {
   "cell_type": "markdown",
   "metadata": {},
   "source": [
    "## Finilize: Copy Files to Output Folder"
   ]
  },
  {
   "cell_type": "code",
   "execution_count": 5,
   "metadata": {},
   "outputs": [],
   "source": [
    "import shutil"
   ]
  },
  {
   "cell_type": "code",
   "execution_count": 6,
   "metadata": {},
   "outputs": [],
   "source": [
    "out_root = Path(\"./resources/2024-Oct-unique\")\n",
    "out_root.mkdir(exist_ok=True)\n",
    "\n",
    "for doc_path in doc_path_pool:\n",
    "    shutil.copy(doc_path, out_root / doc_path.name)"
   ]
  },
  {
   "cell_type": "code",
   "execution_count": null,
   "metadata": {},
   "outputs": [],
   "source": []
  }
 ],
 "metadata": {
  "kernelspec": {
   "display_name": "misc",
   "language": "python",
   "name": "python3"
  },
  "language_info": {
   "codemirror_mode": {
    "name": "ipython",
    "version": 3
   },
   "file_extension": ".py",
   "mimetype": "text/x-python",
   "name": "python",
   "nbconvert_exporter": "python",
   "pygments_lexer": "ipython3",
   "version": "3.12.2"
  }
 },
 "nbformat": 4,
 "nbformat_minor": 2
}
